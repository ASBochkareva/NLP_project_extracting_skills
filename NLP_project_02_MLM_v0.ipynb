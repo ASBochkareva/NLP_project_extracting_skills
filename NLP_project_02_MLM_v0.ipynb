{
 "cells": [
  {
   "cell_type": "markdown",
   "id": "4b8fd5dc-4a7d-4356-809c-741bc3f17657",
   "metadata": {},
   "source": [
    "# NLP project: Extracting skills from job descriptions.\n",
    "# MLM"
   ]
  },
  {
   "cell_type": "code",
   "execution_count": null,
   "id": "7648ca3c-e834-41d7-ae65-246c44876400",
   "metadata": {},
   "outputs": [],
   "source": [
    "import pandas as pd\n",
    "import numpy as np\n",
    "from collections import Counter\n",
    "import re\n",
    "\n",
    "import matplotlib.pyplot as plt\n",
    "import seaborn as sns\n",
    "\n",
    "import nltk\n",
    "from nltk import ngrams\n",
    "import sentencepiece as spm\n",
    "\n",
    "from sklearn.model_selection import train_test_split\n",
    "from transformers import AutoTokenizer, BertForMaskedLM, Trainer, TrainingArguments, DataCollatorForLanguageModeling\n",
    "from datasets import Dataset\n",
    "import torch\n",
    "from torch.backends import cuda\n",
    "\n",
    "import os\n",
    "from tqdm import tqdm\n",
    "from GPUtil import showUtilization\n",
    "from transformers import logging\n",
    "from transformers import AutoModelForMaskedLM\n",
    "from transformers import TrainerCallback"
   ]
  },
  {
   "cell_type": "markdown",
   "id": "ea0517d2-6a03-4417-8a59-744d939039ab",
   "metadata": {},
   "source": [
    "На предыдущем этапе мы предобработали данные для обучения"
   ]
  },
  {
   "cell_type": "code",
   "execution_count": 7,
   "id": "b71887ca-6dd7-4690-b70b-9b11bedbb151",
   "metadata": {},
   "outputs": [],
   "source": [
    "df_description = pd.read_excel ('df_description_2605.xlsx', index_col=0)"
   ]
  },
  {
   "cell_type": "code",
   "execution_count": 9,
   "id": "a1838475-1df8-43e1-8813-f5aaf3d9f570",
   "metadata": {},
   "outputs": [
    {
     "name": "stdout",
     "output_type": "stream",
     "text": [
      "(49401, 2)\n"
     ]
    },
    {
     "data": {
      "text/html": [
       "<div>\n",
       "<style scoped>\n",
       "    .dataframe tbody tr th:only-of-type {\n",
       "        vertical-align: middle;\n",
       "    }\n",
       "\n",
       "    .dataframe tbody tr th {\n",
       "        vertical-align: top;\n",
       "    }\n",
       "\n",
       "    .dataframe thead th {\n",
       "        text-align: right;\n",
       "    }\n",
       "</style>\n",
       "<table border=\"1\" class=\"dataframe\">\n",
       "  <thead>\n",
       "    <tr style=\"text-align: right;\">\n",
       "      <th></th>\n",
       "      <th>job_requirements_id</th>\n",
       "      <th>job_requirements</th>\n",
       "    </tr>\n",
       "  </thead>\n",
       "  <tbody>\n",
       "    <tr>\n",
       "      <th>0</th>\n",
       "      <td>1</td>\n",
       "      <td>мы ждем от кандидата: опыт в продажах b2b  опы...</td>\n",
       "    </tr>\n",
       "    <tr>\n",
       "      <th>1</th>\n",
       "      <td>2</td>\n",
       "      <td>мы ожидаем: опыт в аналогичной должности от 1г...</td>\n",
       "    </tr>\n",
       "    <tr>\n",
       "      <th>2</th>\n",
       "      <td>3</td>\n",
       "      <td>необходимо обладать: опытом работы в сфере про...</td>\n",
       "    </tr>\n",
       "  </tbody>\n",
       "</table>\n",
       "</div>"
      ],
      "text/plain": [
       "   job_requirements_id                                   job_requirements\n",
       "0                    1  мы ждем от кандидата: опыт в продажах b2b  опы...\n",
       "1                    2  мы ожидаем: опыт в аналогичной должности от 1г...\n",
       "2                    3  необходимо обладать: опытом работы в сфере про..."
      ]
     },
     "execution_count": 9,
     "metadata": {},
     "output_type": "execute_result"
    }
   ],
   "source": [
    "print(df_description.shape)\n",
    "df_description.head(3)"
   ]
  },
  {
   "cell_type": "code",
   "execution_count": 9,
   "id": "fdf98435-2666-4471-a58a-c1869437fa07",
   "metadata": {},
   "outputs": [
    {
     "name": "stdout",
     "output_type": "stream",
     "text": [
      "<class 'pandas.core.frame.DataFrame'>\n",
      "Index: 49401 entries, 0 to 57713\n",
      "Data columns (total 2 columns):\n",
      " #   Column               Non-Null Count  Dtype \n",
      "---  ------               --------------  ----- \n",
      " 0   job_requirements_id  49401 non-null  int64 \n",
      " 1   job_requirements     49401 non-null  object\n",
      "dtypes: int64(1), object(1)\n",
      "memory usage: 1.1+ MB\n"
     ]
    }
   ],
   "source": [
    "df_description.info()"
   ]
  },
  {
   "cell_type": "markdown",
   "id": "05974c0c-8bc8-49b8-809f-a36880864873",
   "metadata": {},
   "source": [
    "Ранее при анализе текста с описанием вакансии встретились термины, состоящие из цифр и букв (вроде b2b, 1c) которые важно не разбивать\n",
    "Проанализируем, полный перечень таких терминов в описании вакансий, чтобы потом добавить в словарь токенизатора"
   ]
  },
  {
   "cell_type": "code",
   "execution_count": 81,
   "id": "192ae23e-5025-4726-b0df-00b17a5fd3d2",
   "metadata": {},
   "outputs": [],
   "source": [
    "# Извлекает составные термины, содержащие буквы и цифры\n",
    "def extract_alphanumeric_terms(texts, min_length=2, min_freq=1):   \n",
    "    pattern = r'''\n",
    "        \\b                          # Граница слова\n",
    "        (?:                         # Группа без захвата:\n",
    "          [a-zA-Zа-яА-Я]+           # 1+ букв\n",
    "          [\\d\\-_/@#]+               # 1+ цифр или спецсимволов\n",
    "          [a-zA-Zа-яА-Я\\d\\-_/@#]*   # 0+ букв/цифр/символов\n",
    "          |                         # ИЛИ\n",
    "          [\\d\\-_/@#]+               # 1+ цифр или спецсимволов\n",
    "          [a-zA-Zа-яА-Я]+           # 1+ букв\n",
    "          [a-zA-Zа-яА-Я\\d\\-_/@#]*   # 0+ букв/цифр/символов\n",
    "        )\\b                         # Граница слова\n",
    "    '''\n",
    "    \n",
    "    all_terms = []    \n",
    "    for text in texts:\n",
    "        if pd.isna(text):\n",
    "            continue       \n",
    "        # Находим все соответствия паттерну\n",
    "        terms = re.findall(pattern, text, flags=re.VERBOSE)\n",
    "        # Фильтруем по длине и добавляем в общий список\n",
    "        all_terms.extend([term for term in terms if len(term) >= min_length])    \n",
    "    # Считаем частоту терминов\n",
    "    term_counts = Counter(all_terms)    \n",
    "    df_terms = pd.DataFrame({\n",
    "        'term': list(term_counts.keys()),\n",
    "        'count': list(term_counts.values())\n",
    "    }) \n",
    "    # Фильтруем по минимальной частоте\n",
    "    df_terms = df_terms[df_terms['count'] >= min_freq]\n",
    "    # Сортируем по частоте (убывание) и термину (по алфавиту)\n",
    "    df_terms = df_terms.sort_values(by=['count', 'term'], ascending=[False, True]) \n",
    "    return df_terms.reset_index(drop=True)"
   ]
  },
  {
   "cell_type": "code",
   "execution_count": 15,
   "id": "daa6b4c4-ac39-42d2-a81c-5405719cdf63",
   "metadata": {},
   "outputs": [],
   "source": [
    "# Извлечем все составные термины и выгрузим для ручного анализа\n",
    "df_terms = extract_alphanumeric_terms(df_description['job_requirements'], min_freq=1)\n",
    "df_terms.to_excel('df_terms.xlsx')"
   ]
  },
  {
   "cell_type": "markdown",
   "id": "3aa56069-a427-4ac4-8bba-754a052e62ae",
   "metadata": {},
   "source": [
    "## Токенизация текста"
   ]
  },
  {
   "cell_type": "markdown",
   "id": "18c583d8-ee50-4c32-a29a-0407d693970d",
   "metadata": {},
   "source": [
    "## Обучение моделей"
   ]
  },
  {
   "cell_type": "code",
   "execution_count": 11,
   "id": "1b5dbd69-b38c-4a9e-9b32-0d6236378922",
   "metadata": {},
   "outputs": [],
   "source": [
    "# Т.к. видеокарта поддерживает PCIe 5.0 а материнская плата только PCIe 3.0\n",
    "# Аппаратные оптимизации torch для PCIe 3.0\n",
    "torch.backends.cuda.enable_flash_sdp(True) # т.к cuda = 12.8\n",
    "torch.backends.cuda.enable_mem_efficient_sdp(True)\n",
    "torch.set_float32_matmul_precision('medium')  # 'high' может вызывать проблемы на PCIe 3.0\n",
    "\n",
    "# Ограничения для PCIe 3.0\n",
    "os.environ['CUDA_DEVICE_ORDER'] = 'PCI_BUS_ID'\n",
    "os.environ['NCCL_P2P_DISABLE'] = '1'\n",
    "os.environ['NCCL_SHM_DISABLE'] = '1'\n",
    "os.environ['NCCL_IGNORE_CPU_AFFINITY'] = '1'  # Важно для PCIe 3.0\n",
    "os.environ['CUDA_LAUNCH_BLOCKING'] = '0'  \n"
   ]
  },
  {
   "cell_type": "code",
   "execution_count": 13,
   "id": "8836f505-9f74-4b89-8fe8-fb90ae2c6ded",
   "metadata": {},
   "outputs": [],
   "source": [
    "train_df, temp_df = train_test_split(df_description, test_size=0.2, random_state=25)\n",
    "val_df, test_df = train_test_split(temp_df, test_size=0.5, random_state=25)"
   ]
  },
  {
   "cell_type": "code",
   "execution_count": 15,
   "id": "8c8f47b0-e793-40c2-a783-560ca5d55067",
   "metadata": {},
   "outputs": [
    {
     "data": {
      "text/plain": [
       "(39520, 2)"
      ]
     },
     "execution_count": 15,
     "metadata": {},
     "output_type": "execute_result"
    }
   ],
   "source": [
    "train_df.shape"
   ]
  },
  {
   "cell_type": "code",
   "execution_count": 17,
   "id": "75cb9434-a76f-424e-a2e3-44f7e2b8ac19",
   "metadata": {},
   "outputs": [],
   "source": [
    "class RussianJobTokenizer:\n",
    "    def __init__(self, model_name=\"cointegrated/rubert-tiny\"):\n",
    "        self.tokenizer = AutoTokenizer.from_pretrained(model_name)\n",
    "        self._add_special_tokens()\n",
    "    \n",
    "    def _add_special_tokens(self):\n",
    "        special_tokens = ['1с','b2b','битрикс24','1c','b2c','bitrix24','в2с','b2g',\n",
    "                         '1с8','3d','b2с','1c8','в2b','b2o','2gis','б2б','в2c','b2t','в2f']\n",
    "        self.tokenizer.add_tokens(special_tokens)\n",
    "    \n",
    "    def tokenize_text(self, text):\n",
    "        if pd.isna(text) or not isinstance(text, str) or not text.strip():\n",
    "            return [self.tokenizer.cls_token_id, self.tokenizer.sep_token_id]  # Возвращаем минимальный валидный input\n",
    "        \n",
    "        text = text.strip()\n",
    "        sentences = [text]\n",
    "        input_ids = []\n",
    "        for sent in sentences:\n",
    "            ids = self.tokenizer(\n",
    "                sent,\n",
    "                add_special_tokens=False,\n",
    "                truncation=False,\n",
    "                return_tensors=None\n",
    "            )[\"input_ids\"]\n",
    "            input_ids.extend(ids)\n",
    "        \n",
    "        return [self.tokenizer.cls_token_id] + input_ids[:510] + [self.tokenizer.sep_token_id]"
   ]
  },
  {
   "cell_type": "code",
   "execution_count": 19,
   "id": "19c78e1e-0aec-45e0-b42d-1d3cec490f48",
   "metadata": {},
   "outputs": [],
   "source": [
    "logging.set_verbosity_error()  # Отключаем предупреждения"
   ]
  },
  {
   "cell_type": "code",
   "execution_count": 21,
   "id": "5aa31352-2023-4416-bc86-0b5cd6989bdb",
   "metadata": {},
   "outputs": [],
   "source": [
    "tokenizer = RussianJobTokenizer()"
   ]
  },
  {
   "cell_type": "code",
   "execution_count": 23,
   "id": "0f458b2a-3352-48c1-bbbb-27a7f3bcda40",
   "metadata": {},
   "outputs": [
    {
     "name": "stdout",
     "output_type": "stream",
     "text": [
      "Токенизатор загружен. Пример токенизации: [2, 3086, 10885, 22723, 329, 29564, 320, 29565, 3]\n"
     ]
    }
   ],
   "source": [
    "print(\"Токенизатор загружен. Пример токенизации:\", tokenizer.tokenize_text(\"Пример текста с 1с и b2b\"))"
   ]
  },
  {
   "cell_type": "code",
   "execution_count": 25,
   "id": "8b5879fa-5eb5-464b-a249-9875bf140a93",
   "metadata": {},
   "outputs": [],
   "source": [
    "model = AutoModelForMaskedLM.from_pretrained(\n",
    "    \"cointegrated/rubert-tiny\",\n",
    "    torch_dtype=torch.float32,\n",
    "    device_map=\"cuda\",\n",
    "    use_safetensors=True,\n",
    "    tie_word_embeddings=False  \n",
    ")"
   ]
  },
  {
   "cell_type": "code",
   "execution_count": 27,
   "id": "1a901791-34ae-4771-b91c-434311ca7b12",
   "metadata": {},
   "outputs": [
    {
     "data": {
      "text/plain": [
       "Embedding(29583, 312, padding_idx=0)"
      ]
     },
     "execution_count": 27,
     "metadata": {},
     "output_type": "execute_result"
    }
   ],
   "source": [
    "model.resize_token_embeddings(len(tokenizer.tokenizer)) # Учитываем добавленные токены resize_token_embeddings"
   ]
  },
  {
   "cell_type": "code",
   "execution_count": 29,
   "id": "9db4237d-51c2-45dc-89d7-cdb165def1d1",
   "metadata": {},
   "outputs": [],
   "source": [
    "model.gradient_checkpointing_enable()  # Критично для PCIe 3.0"
   ]
  },
  {
   "cell_type": "code",
   "execution_count": 31,
   "id": "f46eb8a3-4557-4117-8fb2-6096d978ba3b",
   "metadata": {},
   "outputs": [],
   "source": [
    "def prepare_dataset(df, tokenizer):\n",
    "    dataset = Dataset.from_pandas(df)\n",
    "    \n",
    "    def tokenize_function(examples):\n",
    "        texts = examples[\"job_requirements\"]\n",
    "        return {\"input_ids\": [tokenizer.tokenize_text(text) for text in texts]}\n",
    "    \n",
    "    return dataset.map(\n",
    "        tokenize_function,\n",
    "        batched=True,\n",
    "        remove_columns=dataset.column_names\n",
    "    )"
   ]
  },
  {
   "cell_type": "code",
   "execution_count": 33,
   "id": "d73e3f96-0eb7-4985-ab8d-8aabd9238105",
   "metadata": {},
   "outputs": [
    {
     "data": {
      "application/vnd.jupyter.widget-view+json": {
       "model_id": "432dc99b4314404fb8ae4cfef2891d09",
       "version_major": 2,
       "version_minor": 0
      },
      "text/plain": [
       "Map:   0%|          | 0/39520 [00:00<?, ? examples/s]"
      ]
     },
     "metadata": {},
     "output_type": "display_data"
    },
    {
     "data": {
      "application/vnd.jupyter.widget-view+json": {
       "model_id": "10b6cf9735f547d8b8c617877d9b4600",
       "version_major": 2,
       "version_minor": 0
      },
      "text/plain": [
       "Map:   0%|          | 0/4940 [00:00<?, ? examples/s]"
      ]
     },
     "metadata": {},
     "output_type": "display_data"
    }
   ],
   "source": [
    "train_dataset = prepare_dataset(train_df, tokenizer)\n",
    "val_dataset = prepare_dataset(val_df, tokenizer)"
   ]
  },
  {
   "cell_type": "markdown",
   "id": "b175ebc4-49d9-4951-a2c7-f4317932f5c4",
   "metadata": {},
   "source": [
    "## Сбор статистики"
   ]
  },
  {
   "cell_type": "code",
   "execution_count": 43,
   "id": "5c3f82d1-4851-418a-a9f3-afdfb03d1e2e",
   "metadata": {},
   "outputs": [
    {
     "name": "stdout",
     "output_type": "stream",
     "text": [
      "Статистика длин:\n",
      "Мин: 18\n",
      "Медиана: 170.0\n",
      "Макс: 512\n",
      "Среднее: 189.6 ± 106.1\n"
     ]
    }
   ],
   "source": [
    "# Сбор статистики\n",
    "lengths = np.array([len(x[\"input_ids\"]) for x in train_dataset])\n",
    "print(f\"Статистика длин:\\n\"\n",
    "      f\"Мин: {lengths.min()}\\n\"\n",
    "      f\"Медиана: {np.median(lengths)}\\n\"\n",
    "      f\"Макс: {lengths.max()}\\n\"\n",
    "      f\"Среднее: {lengths.mean():.1f} ± {lengths.std():.1f}\")\n"
   ]
  },
  {
   "cell_type": "code",
   "execution_count": 65,
   "id": "c49e3e0f-c4ec-41f9-a86d-1497d491b829",
   "metadata": {},
   "outputs": [
    {
     "data": {
      "image/png": "[encoded data removed]",
      "text/plain": [
       "<Figure size 1200x600 with 1 Axes>"
      ]
     },
     "metadata": {},
     "output_type": "display_data"
    }
   ],
   "source": [
    "# Гистограмма\n",
    "plt.figure(figsize=(12, 6))\n",
    "plt.hist(lengths, bins=50, color='skyblue', edgecolor='black')\n",
    "plt.axvline(x=64, color='red', linestyle='--', label='Граница выбросов')\n",
    "plt.title('Распределение длин последовательностей')\n",
    "plt.xlabel('Длина (токены)')\n",
    "plt.ylabel('Частота')\n",
    "plt.legend()\n",
    "plt.show()"
   ]
  },
  {
   "cell_type": "code",
   "execution_count": 153,
   "id": "6fcc54d3-ee51-4851-8976-041abfef3f53",
   "metadata": {},
   "outputs": [
    {
     "data": {
      "image/png": "[encoded data removed]",
      "text/plain": [
       "<Figure size 800x400 with 1 Axes>"
      ]
     },
     "metadata": {},
     "output_type": "display_data"
    }
   ],
   "source": [
    "# Box plot\n",
    "plt.figure(figsize=(8, 4))\n",
    "sns.boxplot(x=lengths, color='lightgreen')\n",
    "plt.title('Box plot длин последовательностей')\n",
    "plt.xlabel('Длина (токены)')\n",
    "plt.show()"
   ]
  },
  {
   "cell_type": "code",
   "execution_count": null,
   "id": "b24a355e-70b6-4120-be57-0506a2737655",
   "metadata": {},
   "outputs": [],
   "source": [
    "short_samples = [int(i) for i in np.where(np.array(lengths) < 10)[0]]  \n",
    "print(f\"Найдено {len(short_samples)} слишком коротких примеров (длина <10 токенов)\")\n",
    "\n",
    "# Просмотр случайных выбросов (с проверкой на пустой список)\n",
    "if short_samples:\n",
    "    for i in np.random.choice(short_samples, size=min(3, len(short_samples)), replace=False):\n",
    "        sample = train_dataset[i]\n",
    "        print(f\"\\nПример {i} (длина {len(sample['input_ids'])}):\")\n",
    "        print(\"Текст:\", tokenizer.tokenizer.decode(sample['input_ids'], skip_special_tokens=True))\n",
    "        print(\"Токены:\", sample['input_ids'])\n",
    "else:\n",
    "    print(\"Короткие примеры не найдены\")"
   ]
  },
  {
   "cell_type": "markdown",
   "id": "6213df4c-c621-4bbe-9630-849002980d73",
   "metadata": {},
   "source": [
    "## Обучение модели"
   ]
  },
  {
   "cell_type": "code",
   "execution_count": 35,
   "id": "b0750a25-58da-441e-9624-ceff0383b520",
   "metadata": {},
   "outputs": [],
   "source": [
    "training_args = TrainingArguments(\n",
    "    output_dir='./full_train',\n",
    "    per_device_train_batch_size=8,\n",
    "    gradient_accumulation_steps=4,  \n",
    "    num_train_epochs=5,\n",
    "    fp16=False,\n",
    "    bf16=True, \n",
    "    learning_rate=3e-5,\n",
    "    optim=\"adamw_torch\",\n",
    "    save_strategy=\"steps\", \n",
    "    save_steps=500,\n",
    "    logging_steps=100,\n",
    "    remove_unused_columns=False,  \n",
    ")"
   ]
  },
  {
   "cell_type": "code",
   "execution_count": 39,
   "id": "a03a5b03-0695-4532-9a8c-d4706aa930c7",
   "metadata": {},
   "outputs": [],
   "source": [
    "data_collator = DataCollatorForLanguageModeling(\n",
    "    tokenizer=tokenizer.tokenizer,\n",
    "    mlm_probability=0.15,\n",
    "    pad_to_multiple_of=None,  \n",
    "    mlm=True\n",
    ")"
   ]
  },
  {
   "cell_type": "code",
   "execution_count": 41,
   "id": "b77cdc76-0cc8-45ce-a71a-66d0f545f759",
   "metadata": {},
   "outputs": [],
   "source": [
    "class TqdmTrainer(Trainer):\n",
    "    def __init__(self, *args, **kwargs):\n",
    "        super().__init__(*args, **kwargs)\n",
    "        self.pbar = None\n",
    "    \n",
    "    def on_train_begin(self, args, state, control, **kwargs):\n",
    "        self.pbar = tqdm(total=state.max_steps, desc=\"Обучение\", dynamic_ncols=True)\n",
    "        return super().on_train_begin(args, state, control, **kwargs)\n",
    "    \n",
    "    def on_step_end(self, args, state, control, **kwargs):\n",
    "        if self.pbar is not None:\n",
    "            self.pbar.update(1)\n",
    "            self.pbar.set_postfix({\n",
    "                'loss': f\"{state.log_history[-1].get('loss', 0):.3f}\",\n",
    "                'lr': f\"{state.log_history[-1].get('learning_rate', 0):.1e}\",\n",
    "                'GPU Mem': f\"{torch.cuda.memory_allocated(0)/1024**3:.1f}GB\"\n",
    "            })\n",
    "        return super().on_step_end(args, state, control, **kwargs)\n",
    "    \n",
    "    def on_train_end(self, args, state, control, **kwargs):\n",
    "        if self.pbar is not None:\n",
    "            self.pbar.close()\n",
    "        return super().on_train_end(args, state, control, **kwargs)"
   ]
  },
  {
   "cell_type": "code",
   "execution_count": 43,
   "id": "db48a461-4dfd-4935-92ff-2c2813829bd2",
   "metadata": {},
   "outputs": [],
   "source": [
    "#Добавляю callback для обработки NaN. С интервалом проверки 100\n",
    "from transformers import TrainerCallback\n",
    "\n",
    "class NanDetectorCallback(TrainerCallback):\n",
    "    def __init__(self, check_interval=100):\n",
    "        self.check_interval = check_interval\n",
    "        \n",
    "    def on_step_end(self, args, state, control, **kwargs):\n",
    "        if state.global_step % self.check_interval == 0:\n",
    "            for name, param in kwargs['model'].named_parameters():\n",
    "                if param.grad is not None and (torch.isnan(param.grad).any() or torch.isinf(param.grad).any()):\n",
    "                    print(f\"NaN/Inf detected in {name} at step {state.global_step}\")\n",
    "                    # Автоматическое уменьшение lr\n",
    "                    for g in kwargs['optimizer'].param_groups:\n",
    "                        g['lr'] *= 0.8\n",
    "                    break"
   ]
  },
  {
   "cell_type": "code",
   "execution_count": 45,
   "id": "7dabbcae-ebf2-4aa6-980f-135bc5cca0a5",
   "metadata": {},
   "outputs": [],
   "source": [
    "trainer = TqdmTrainer(\n",
    "    model=model,\n",
    "    args=training_args,\n",
    "    train_dataset=train_dataset,\n",
    "    eval_dataset=val_dataset,\n",
    "    data_collator=data_collator,\n",
    "    callbacks=[NanDetectorCallback()],  # Добавляем наш callback\n",
    ")"
   ]
  },
  {
   "cell_type": "code",
   "execution_count": 43,
   "id": "94d31acb-9c9c-4e0f-8a97-e5289e534053",
   "metadata": {},
   "outputs": [
    {
     "name": "stdout",
     "output_type": "stream",
     "text": [
      "\n",
      "Пример 0:\n",
      "Длина: 61\n",
      "Токены: [2, 7081, 331, 2085, 866, 4674, 25698, 13778, 2215, 319] ... [16743, 700, 1129, 13678, 27266, 2085, 866, 548, 19634, 3]\n",
      "\n",
      "Пример 1:\n",
      "Длина: 105\n",
      "Токены: [2, 14523, 329, 18252, 613, 16, 7081, 23101, 7578, 10141] ... [1887, 11226, 733, 17446, 865, 2277, 21288, 7089, 18, 3]\n",
      "\n",
      "Пример 2:\n",
      "Длина: 80\n",
      "Токены: [2, 330, 3091, 15577, 7113, 30, 25698, 13778, 2215, 18397] ... [21, 320, 22, 4159, 2317, 14812, 11435, 809, 17315, 3]\n",
      "\n",
      "Тест коллатора:\n",
      "{'input_ids': torch.Size([4, 152]), 'attention_mask': torch.Size([4, 152]), 'labels': torch.Size([4, 152])}\n"
     ]
    }
   ],
   "source": [
    "# Проверка первых 3 примеров\n",
    "for i in range(3):\n",
    "    sample = train_dataset[i]\n",
    "    print(f\"\\nПример {i}:\")\n",
    "    print(\"Длина:\", len(sample['input_ids']))\n",
    "    print(\"Токены:\", sample['input_ids'][:10], \"...\", sample['input_ids'][-10:])\n",
    "\n",
    "# Проверка коллатора\n",
    "test_batch = data_collator([train_dataset[i] for i in range(4)])\n",
    "print(\"\\nТест коллатора:\")\n",
    "print({k: v.shape for k, v in test_batch.items()})"
   ]
  },
  {
   "cell_type": "code",
   "execution_count": 47,
   "id": "c2292464-5a07-4f3c-a561-7d996cc08e98",
   "metadata": {},
   "outputs": [
    {
     "name": "stdout",
     "output_type": "stream",
     "text": [
      "Свободно памяти GPU: 0.1/8.0 GB\n"
     ]
    }
   ],
   "source": [
    "print(f\"Свободно памяти GPU: {torch.cuda.memory_allocated()/1024**3:.1f}/{torch.cuda.get_device_properties(0).total_memory/1024**3:.1f} GB\")"
   ]
  },
  {
   "cell_type": "code",
   "execution_count": 49,
   "id": "4ea0760b-4689-490e-b5fb-2ed0afad0416",
   "metadata": {},
   "outputs": [
    {
     "name": "stdout",
     "output_type": "stream",
     "text": [
      "Занято: 0.1 GB\n",
      "Кэш: 0.2 GB\n"
     ]
    }
   ],
   "source": [
    "# Уточним распределение памяти\n",
    "print(f\"Занято: {torch.cuda.memory_allocated()/1024**3:.1f} GB\")\n",
    "print(f\"Кэш: {torch.cuda.memory_reserved()/1024**3:.1f} GB\")"
   ]
  },
  {
   "cell_type": "code",
   "execution_count": 51,
   "id": "31953f33-e7a5-4ba9-94fa-13edb88ddaed",
   "metadata": {},
   "outputs": [
    {
     "name": "stdout",
     "output_type": "stream",
     "text": [
      "Маскированные токены: ['[CLS]', 'если', 'у', 'ва', '##с', 'есть', 'хор', '##ош', '##ие', 'з', '##нания', 'в', 'рек', '##лам', '##ных', 'интернет', '##те', '##х', '##нология', '##х', ',', 'по', '##нима', '##ние', '[MASK]', '##мар', '##кет', '##инг', '##а', '[MASK]', 'на', '[MASK]', '##ки', 'об', '##щения', 'с', 'в', '##ладе', '##ль', '##цами', 'бизнес', '##а', 'и', 'топ', '##мене', '##дж', '##ера', '##ми', ',', 'буде', '[MASK]', 'рад', '[MASK]', 'при', '##гла', '##сить', 'ва', '##с', 'на', '[MASK]', '[SEP]']\n"
     ]
    }
   ],
   "source": [
    "sample = data_collator([train_dataset[0]])\n",
    "print(\"Маскированные токены:\", tokenizer.tokenizer.convert_ids_to_tokens(sample[\"input_ids\"][0]))"
   ]
  },
  {
   "cell_type": "code",
   "execution_count": 53,
   "id": "9febae48-8f25-4c4b-96d7-7fd8c7046514",
   "metadata": {},
   "outputs": [
    {
     "name": "stdout",
     "output_type": "stream",
     "text": [
      "Память перед обучением: 0.1/8.0 GB\n"
     ]
    },
    {
     "name": "stderr",
     "output_type": "stream",
     "text": [
      "Обучение:   0%|          | 0/4940 [00:00<?, ?it/s]"
     ]
    },
    {
     "name": "stdout",
     "output_type": "stream",
     "text": [
      "{'loss': 8.2904, 'grad_norm': 2.152988910675049, 'learning_rate': 2.9519028340080973e-05, 'epoch': 0.08097165991902834}\n",
      "{'loss': 6.5256, 'grad_norm': 2.3509018421173096, 'learning_rate': 2.90331983805668e-05, 'epoch': 0.16194331983805668}\n",
      "{'loss': 5.8487, 'grad_norm': 2.3006386756896973, 'learning_rate': 2.8547368421052634e-05, 'epoch': 0.242914979757085}\n",
      "{'loss': 5.4282, 'grad_norm': 2.687706708908081, 'learning_rate': 2.806153846153846e-05, 'epoch': 0.32388663967611336}\n",
      "{'loss': 5.0636, 'grad_norm': 2.54367995262146, 'learning_rate': 2.7575708502024294e-05, 'epoch': 0.4048582995951417}\n",
      "{'loss': 4.7822, 'grad_norm': 2.5486934185028076, 'learning_rate': 2.708987854251012e-05, 'epoch': 0.48582995951417}\n",
      "{'loss': 4.5461, 'grad_norm': 2.510507822036743, 'learning_rate': 2.660404858299595e-05, 'epoch': 0.5668016194331984}\n",
      "{'loss': 4.345, 'grad_norm': 2.7630391120910645, 'learning_rate': 2.6118218623481782e-05, 'epoch': 0.6477732793522267}\n",
      "{'loss': 4.1645, 'grad_norm': 2.7493226528167725, 'learning_rate': 2.5632388663967612e-05, 'epoch': 0.728744939271255}\n",
      "{'loss': 4.05, 'grad_norm': 2.836228132247925, 'learning_rate': 2.5146558704453442e-05, 'epoch': 0.8097165991902834}\n",
      "{'loss': 3.924, 'grad_norm': 2.760131359100342, 'learning_rate': 2.4660728744939272e-05, 'epoch': 0.8906882591093117}\n",
      "{'loss': 3.7426, 'grad_norm': 3.0502495765686035, 'learning_rate': 2.4174898785425103e-05, 'epoch': 0.97165991902834}\n",
      "{'loss': 3.6869, 'grad_norm': 2.688401937484741, 'learning_rate': 2.3689068825910933e-05, 'epoch': 1.0526315789473684}\n",
      "{'loss': 3.5476, 'grad_norm': 2.682753086090088, 'learning_rate': 2.3203238866396763e-05, 'epoch': 1.1336032388663968}\n",
      "{'loss': 3.4818, 'grad_norm': 2.6904308795928955, 'learning_rate': 2.271740890688259e-05, 'epoch': 1.214574898785425}\n",
      "{'loss': 3.3853, 'grad_norm': 2.9661924839019775, 'learning_rate': 2.2231578947368424e-05, 'epoch': 1.2955465587044535}\n",
      "{'loss': 3.3212, 'grad_norm': 2.7492146492004395, 'learning_rate': 2.174574898785425e-05, 'epoch': 1.376518218623482}\n",
      "{'loss': 3.2462, 'grad_norm': 2.823673963546753, 'learning_rate': 2.125991902834008e-05, 'epoch': 1.45748987854251}\n",
      "{'loss': 3.1677, 'grad_norm': 3.1246495246887207, 'learning_rate': 2.077408906882591e-05, 'epoch': 1.5384615384615383}\n",
      "{'loss': 3.1387, 'grad_norm': 2.9112532138824463, 'learning_rate': 2.028825910931174e-05, 'epoch': 1.6194331983805668}\n",
      "{'loss': 3.0729, 'grad_norm': 2.7862186431884766, 'learning_rate': 1.980242914979757e-05, 'epoch': 1.7004048582995952}\n",
      "{'loss': 3.0225, 'grad_norm': 2.703245162963867, 'learning_rate': 1.93165991902834e-05, 'epoch': 1.7813765182186234}\n",
      "{'loss': 2.9772, 'grad_norm': 2.945204734802246, 'learning_rate': 1.8830769230769232e-05, 'epoch': 1.8623481781376519}\n",
      "{'loss': 2.9258, 'grad_norm': 2.7138113975524902, 'learning_rate': 1.8344939271255062e-05, 'epoch': 1.9433198380566803}\n",
      "{'loss': 2.881, 'grad_norm': 3.3694019317626953, 'learning_rate': 1.7859109311740892e-05, 'epoch': 2.0242914979757085}\n",
      "{'loss': 2.8425, 'grad_norm': 2.9737319946289062, 'learning_rate': 1.737327935222672e-05, 'epoch': 2.1052631578947367}\n",
      "{'loss': 2.8359, 'grad_norm': 2.9091334342956543, 'learning_rate': 1.6887449392712553e-05, 'epoch': 2.1862348178137654}\n",
      "{'loss': 2.7785, 'grad_norm': 3.0559356212615967, 'learning_rate': 1.640161943319838e-05, 'epoch': 2.2672064777327936}\n",
      "{'loss': 2.7382, 'grad_norm': 2.982944965362549, 'learning_rate': 1.5915789473684213e-05, 'epoch': 2.348178137651822}\n",
      "{'loss': 2.7281, 'grad_norm': 2.6211767196655273, 'learning_rate': 1.542995951417004e-05, 'epoch': 2.42914979757085}\n",
      "{'loss': 2.7042, 'grad_norm': 2.9881694316864014, 'learning_rate': 1.4944129554655872e-05, 'epoch': 2.5101214574898787}\n",
      "{'loss': 2.6417, 'grad_norm': 2.549776077270508, 'learning_rate': 1.44582995951417e-05, 'epoch': 2.591093117408907}\n",
      "{'loss': 2.6351, 'grad_norm': 2.7230875492095947, 'learning_rate': 1.397246963562753e-05, 'epoch': 2.672064777327935}\n",
      "{'loss': 2.6144, 'grad_norm': 2.7007389068603516, 'learning_rate': 1.3486639676113361e-05, 'epoch': 2.753036437246964}\n",
      "{'loss': 2.5695, 'grad_norm': 2.5888707637786865, 'learning_rate': 1.3000809716599191e-05, 'epoch': 2.834008097165992}\n",
      "{'loss': 2.5836, 'grad_norm': 2.8029561042785645, 'learning_rate': 1.251497975708502e-05, 'epoch': 2.91497975708502}\n",
      "{'loss': 2.5504, 'grad_norm': 3.090611457824707, 'learning_rate': 1.202914979757085e-05, 'epoch': 2.9959514170040484}\n",
      "{'loss': 2.5305, 'grad_norm': 2.8323798179626465, 'learning_rate': 1.154331983805668e-05, 'epoch': 3.076923076923077}\n",
      "{'loss': 2.5078, 'grad_norm': 2.7332375049591064, 'learning_rate': 1.105748987854251e-05, 'epoch': 3.1578947368421053}\n",
      "{'loss': 2.5252, 'grad_norm': 2.7095043659210205, 'learning_rate': 1.0571659919028339e-05, 'epoch': 3.2388663967611335}\n",
      "{'loss': 2.4403, 'grad_norm': 2.9403696060180664, 'learning_rate': 1.008582995951417e-05, 'epoch': 3.3198380566801617}\n",
      "{'loss': 2.4606, 'grad_norm': 3.6194348335266113, 'learning_rate': 9.600000000000001e-06, 'epoch': 3.4008097165991904}\n",
      "{'loss': 2.469, 'grad_norm': 3.098088264465332, 'learning_rate': 9.114170040485831e-06, 'epoch': 3.4817813765182186}\n",
      "{'loss': 2.4262, 'grad_norm': 2.7854340076446533, 'learning_rate': 8.62834008097166e-06, 'epoch': 3.562753036437247}\n",
      "{'loss': 2.433, 'grad_norm': 2.422449827194214, 'learning_rate': 8.14251012145749e-06, 'epoch': 3.6437246963562755}\n",
      "{'loss': 2.3958, 'grad_norm': 2.652395725250244, 'learning_rate': 7.65668016194332e-06, 'epoch': 3.7246963562753037}\n",
      "{'loss': 2.4126, 'grad_norm': 2.7750284671783447, 'learning_rate': 7.17085020242915e-06, 'epoch': 3.805668016194332}\n",
      "{'loss': 2.3997, 'grad_norm': 3.0042107105255127, 'learning_rate': 6.68502024291498e-06, 'epoch': 3.8866396761133606}\n",
      "{'loss': 2.4007, 'grad_norm': 2.7111976146698, 'learning_rate': 6.1991902834008095e-06, 'epoch': 3.967611336032389}\n",
      "{'loss': 2.4167, 'grad_norm': 2.4246413707733154, 'learning_rate': 5.71336032388664e-06, 'epoch': 4.048582995951417}\n",
      "{'loss': 2.3576, 'grad_norm': 2.560415267944336, 'learning_rate': 5.227530364372469e-06, 'epoch': 4.129554655870446}\n",
      "{'loss': 2.4078, 'grad_norm': 2.853273391723633, 'learning_rate': 4.7417004048583e-06, 'epoch': 4.2105263157894735}\n",
      "{'loss': 2.3795, 'grad_norm': 3.159419298171997, 'learning_rate': 4.25587044534413e-06, 'epoch': 4.291497975708502}\n",
      "{'loss': 2.349, 'grad_norm': 2.8332104682922363, 'learning_rate': 3.77004048582996e-06, 'epoch': 4.372469635627531}\n",
      "{'loss': 2.3414, 'grad_norm': 2.8988027572631836, 'learning_rate': 3.2842105263157897e-06, 'epoch': 4.4534412955465585}\n",
      "{'loss': 2.3449, 'grad_norm': 2.8575384616851807, 'learning_rate': 2.7983805668016195e-06, 'epoch': 4.534412955465587}\n",
      "{'loss': 2.3422, 'grad_norm': 2.772056818008423, 'learning_rate': 2.3125506072874497e-06, 'epoch': 4.615384615384615}\n",
      "{'loss': 2.3461, 'grad_norm': 2.919565200805664, 'learning_rate': 1.8267206477732793e-06, 'epoch': 4.696356275303644}\n",
      "{'loss': 2.342, 'grad_norm': 2.7935354709625244, 'learning_rate': 1.3408906882591093e-06, 'epoch': 4.777327935222672}\n",
      "{'loss': 2.3452, 'grad_norm': 2.7700819969177246, 'learning_rate': 8.550607287449392e-07, 'epoch': 4.8582995951417}\n",
      "{'loss': 2.3203, 'grad_norm': 2.802520990371704, 'learning_rate': 3.692307692307692e-07, 'epoch': 4.939271255060729}\n"
     ]
    },
    {
     "name": "stderr",
     "output_type": "stream",
     "text": [
      "Обучение: 100%|██████████| 4940/4940 [24:15<00:00,  3.39it/s]"
     ]
    },
    {
     "name": "stdout",
     "output_type": "stream",
     "text": [
      "{'train_runtime': 1454.8115, 'train_samples_per_second': 135.825, 'train_steps_per_second': 4.245, 'train_loss': 3.145651267356718, 'epoch': 5.0}\n",
      "Пиковое использование: 1.7 GB\n"
     ]
    },
    {
     "name": "stderr",
     "output_type": "stream",
     "text": [
      "\n"
     ]
    }
   ],
   "source": [
    "try:\n",
    "    print(f\"Память перед обучением: {torch.cuda.memory_allocated()/1024**3:.1f}/{torch.cuda.get_device_properties(0).total_memory/1024**3:.1f} GB\")\n",
    "    \n",
    "    # Запуск обучения с мониторингом\n",
    "    with tqdm(total=len(trainer.get_train_dataloader()), desc=\"Обучение\") as pbar:\n",
    "        trainer.train()\n",
    "        pbar.update(len(trainer.get_train_dataloader()))\n",
    "    \n",
    "    print(f\"Пиковое использование: {torch.cuda.max_memory_allocated()/1024**3:.1f} GB\")\n",
    "except RuntimeError as e:\n",
    "    if \"CUDA out of memory\" in str(e):\n",
    "        print(\"Не хватает памяти! Уменьшите batch_size до 8\")\n",
    "    raise"
   ]
  },
  {
   "cell_type": "code",
   "execution_count": null,
   "id": "5a8c67e4-dbb2-4709-a5ba-9831ce5eecc0",
   "metadata": {},
   "outputs": [],
   "source": [
    "# Очистка памяти после обучения\n",
    "torch.cuda.empty_cache()"
   ]
  },
  {
   "cell_type": "code",
   "execution_count": 57,
   "id": "109bdef3-fd9b-4858-b7bd-8c532cc3a46e",
   "metadata": {},
   "outputs": [
    {
     "data": {
      "application/vnd.jupyter.widget-view+json": {
       "model_id": "8d9c739124f2498bb835f230387df2e1",
       "version_major": 2,
       "version_minor": 0
      },
      "text/plain": [
       "Map:   0%|          | 0/4941 [00:00<?, ? examples/s]"
      ]
     },
     "metadata": {},
     "output_type": "display_data"
    },
    {
     "name": "stdout",
     "output_type": "stream",
     "text": [
      "{'eval_loss': 2.126847267150879, 'eval_runtime': 15.734, 'eval_samples_per_second': 314.034, 'eval_steps_per_second': 39.278, 'epoch': 5.0}\n"
     ]
    }
   ],
   "source": [
    "test_dataset = prepare_dataset(test_df, tokenizer)\n",
    "test_results = trainer.evaluate(test_dataset)"
   ]
  },
  {
   "cell_type": "code",
   "execution_count": 59,
   "id": "210300f1-9e7f-474d-a19a-c39586f258ea",
   "metadata": {},
   "outputs": [
    {
     "name": "stdout",
     "output_type": "stream",
     "text": [
      "Test Perplexity: 8.39\n"
     ]
    }
   ],
   "source": [
    "print(f\"Test Perplexity: {np.exp(test_results['eval_loss']):.2f}\")"
   ]
  },
  {
   "cell_type": "code",
   "execution_count": 67,
   "id": "bfba42c1-06a6-4d89-b93b-1ea73d9d4c04",
   "metadata": {},
   "outputs": [],
   "source": [
    "output_dir = \"./mlm_results/final_model\"\n",
    "model.save_pretrained(output_dir)\n",
    "tokenizer.tokenizer.save_pretrained(output_dir)\n",
    "model.config.save_pretrained(output_dir)"
   ]
  }
 ],
 "metadata": {
  "kernelspec": {
   "display_name": "Python 3 (ipykernel)",
   "language": "python",
   "name": "python3"
  },
  "language_info": {
   "codemirror_mode": {
    "name": "ipython",
    "version": 3
   },
   "file_extension": ".py",
   "mimetype": "text/x-python",
   "name": "python",
   "nbconvert_exporter": "python",
   "pygments_lexer": "ipython3",
   "version": "3.10.10"
  }
 },
 "nbformat": 4,
 "nbformat_minor": 5
}
